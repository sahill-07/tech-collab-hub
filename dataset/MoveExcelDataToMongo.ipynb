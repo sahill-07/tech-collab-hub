{
 "cells": [
  {
   "cell_type": "code",
   "execution_count": 7,
   "metadata": {},
   "outputs": [],
   "source": [
    "'''----------Load Environment variable--------------------------'''\n",
    "from dotenv import load_dotenv\n",
    "import os\n",
    "from pymongo import MongoClient\n",
    "\n",
    "# Load environment variables from .env file\n",
    "load_dotenv()\n",
    "\n",
    "# Now you can access an environment variable\n",
    "MONGO_DB_URI = os.getenv('MONGO_DB_URI')\n",
    "DATASET_FILE_NAME = \"tech_collab_hub_dataset.xlsx\"\n",
    "client = MongoClient(MONGO_DB_URI)\n",
    "db = client['AskYourSenior']\n",
    "collection = db['projects']"
   ]
  },
  {
   "cell_type": "code",
   "execution_count": 8,
   "metadata": {},
   "outputs": [],
   "source": [
    "def upsertDataToMongo(data):\n",
    "    filter = {\"repo_name\": data['repo_name']}\n",
    "    update = {\n",
    "      \"$set\": {\n",
    "          \"repo_name\" : data['repo_name'],\n",
    "          \"repo_author\": data['repo_author'],\n",
    "          \"repo_link\": data['repo_link'],\n",
    "          \"languages\": data['languages'],\n",
    "          \"topic\" : data['topic'],\n",
    "          \"no_of_contributors\" : data['no_of_contributors'],\n",
    "          'description' : data['description'],\n",
    "          'contributors' : data['contributors']\n",
    "        #   project image - to be added\n",
    "        #   similarity matrix   \n",
    "        }\n",
    "    }\n",
    "    collection.update_one(filter, update, upsert=True)\n",
    "    print(\"upserted for \"+ data['repo_name'])"
   ]
  },
  {
   "cell_type": "code",
   "execution_count": 9,
   "metadata": {},
   "outputs": [
    {
     "name": "stdout",
     "output_type": "stream",
     "text": [
      "upserted for unspent\n"
     ]
    }
   ],
   "source": [
    "import pandas as pd\n",
    "df = pd.read_excel(DATASET_FILE_NAME)\n",
    "for index, row in df.iterrows():\n",
    "  upsertDataToMongo(row)\n",
    "  break"
   ]
  }
 ],
 "metadata": {
  "kernelspec": {
   "display_name": "Python 3",
   "language": "python",
   "name": "python3"
  },
  "language_info": {
   "codemirror_mode": {
    "name": "ipython",
    "version": 3
   },
   "file_extension": ".py",
   "mimetype": "text/x-python",
   "name": "python",
   "nbconvert_exporter": "python",
   "pygments_lexer": "ipython3",
   "version": "3.12.2"
  }
 },
 "nbformat": 4,
 "nbformat_minor": 2
}
